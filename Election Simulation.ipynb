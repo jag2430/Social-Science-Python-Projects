{
 "cells": [
  {
   "cell_type": "markdown",
   "metadata": {},
   "source": [
    "# Election Simulation \n",
    "\n",
    "(Original version Created by Karl Sigman)  \n"
   ]
  },
  {
   "cell_type": "markdown",
   "metadata": {},
   "source": [
    "Using the 51 [Electoral College](https://www.archives.gov/electoral-college/2000) numbers that were used in the 2000 USA Presidential Election, estimate the number of ways there could have been a tie in the 2000 Presidential Election.  Use Monte Carlo simulation (using *iid* Bernoulli (1/2); e.g., a fair coin flip for each state) to simulate many elections. The fraction of elections that end in tie multiplied by the number of possible outcomes is your estimate. The exact answer to this question was determined in 2009 by K. Sigman and O. Watanabe to be 17,150,271,124,366.\n",
    "\n",
    "\n",
    "Repeat using the [EC numbers](https://www.archives.gov/electoral-college/2020) from the 2020 election. That is create a new list of EC values and feed it to your function.  *NOTE: Maine and Nebraska do not use a winner-take-all electoral college system. In this project I make the simplifying assumtion that they do.*\n",
    "\n"
   ]
  },
  {
   "cell_type": "code",
   "execution_count": 4,
   "metadata": {},
   "outputs": [
    {
     "name": "stdout",
     "output_type": "stream",
     "text": [
      "result 2000:  17,377,139,162,209\n",
      "result 2020:  16,953,800,797,236\n"
     ]
    }
   ],
   "source": [
    "import numpy as np\n",
    "\n",
    "v_2000 = [9,3,8,6,54,8,8,3,3,25,13,4,4,22,12,7,6,8,9,4,10,12,18,10,7,11,\n",
    "          3,5,4,4,15,5,33,14,3,21,8,7,23,4,8,3,11,32,5,3,13,11,5,11,3]\n",
    "\n",
    "v_2020 = [9,3,11,6,55,9,7,3,3,29,16,4,4,20,11,6,6,8,8,4,10,11,16,10,6,10,\n",
    "          3,5,6,4,14,5,29,15,3,18,7,7,20,4,9,3,11,38,6,3,13,12,5,10,3]\n",
    "\n",
    "# ec: this is the list of EC values to be used in the simulation\n",
    "# target: this is the number of EC values candidate 1 should win\n",
    "# trials: this is the number of trials the MC simulation should use\n",
    "\n",
    "def target_estimator(ec, target,trials):\n",
    "    # generate an array of number of trials by number of electoral votes\n",
    "    random_numbers = np.random.randint(2, size=(trials, len(ec)))\n",
    "    \n",
    "    total_outcomes = np.dot(random_numbers, ec)\n",
    "    num_of_ties = [outcome for outcome in total_outcomes if outcome == target]\n",
    "\n",
    "    # estimation of N_t\n",
    "    tgt_est = (len(num_of_ties) * (2**(len(ec)))) / trials\n",
    "    return (int(tgt_est))\n",
    "    \n",
    " \n",
    "# now use the function to determine the number of ways a tie can occur\n",
    "\n",
    "result_2000 = target_estimator(v_2000,269,1000000)\n",
    "result_2020 = target_estimator(v_2020,269,1000000)\n",
    "\n",
    "print('result 2000: ', f'{result_2000:,}')\n",
    "print('result 2020: ', f'{result_2020:,}')"
   ]
  },
  {
   "cell_type": "markdown",
   "metadata": {},
   "source": [
    "In the year 2000 (Bush versus Gore), the situation right before the election was this: Bush had (in his pocket) 24 states totaling 210 EC votes, while Gore had 10 states totaling 146 EC votes. There were 17 states left over, the “Battleground States”, in which it was supposedly unclear who would win them. Look at the file 2000.pdf (Located in Data folder) to see exactly what states made up the 17, and the EC numbers for them.\n",
    "\n",
    "Assuming each Battleground State outcome is determined by an *iid* fair coin toss; Bernoulli (1/2). A simulation (using 1 million copies to average, using Monte Carlo) can be created to obtain the probability that Bush would win the election, and the probability that Gore would win the election, and the probability of a tie.\n"
   ]
  },
  {
   "cell_type": "code",
   "execution_count": 5,
   "metadata": {},
   "outputs": [
    {
     "name": "stdout",
     "output_type": "stream",
     "text": [
      "Bush win:  0.879405\n",
      "Gore win:  0.112192\n",
      "tie:  0.007598876953125\n",
      "tie:  0.0075531005859375\n"
     ]
    }
   ],
   "source": [
    "import numpy as np\n",
    "\n",
    "tie = 269\n",
    "\n",
    "v_in_play= [6,3,25,22,7,4,18,10,11,4,4,7,23,11,11,5,11]\n",
    "\n",
    "# this function returns an estimate for the probability that candidate 1\n",
    "# wins in a US Presidential election given that they already have\n",
    "# ec_in_the_bag EC votes.\n",
    "# v_left is a list of the remaining EC numbers,\n",
    "# trials is the number of trials to be used in the MC simulation.\n",
    "# This function assumes that the probability of winning any remaining state\n",
    "# is 0.5\n",
    "\n",
    "def ec_estimator(ec_in_the_bag, v_left,trials):\n",
    "    random_numbers = np.random.randint(2, size=(trials, len(v_left)))\n",
    "\n",
    "    battle_state_outcomes = np.dot(random_numbers, v_left)\n",
    "    total_vote_left = sum(v_left)\n",
    "\n",
    "    win_outcomes = [outcome for outcome in battle_state_outcomes if (\n",
    "        ec_in_the_bag + outcome) > tie]\n",
    "\n",
    "    win_prob = len(win_outcomes) / trials\n",
    "    return (win_prob)\n",
    "    \n",
    "\n",
    "# estimate for Bush win\n",
    "print('Bush win: ',ec_estimator(210,v_in_play,1000000))\n",
    "\n",
    "# estimate for Gore win\n",
    "print('Gore win: ',ec_estimator(146,v_in_play,1000000))\n",
    "\n",
    "#estimate for Tie\n",
    "print('tie: ',target_estimator(v_in_play,269-146,1000000)/2**len(v_in_play))\n",
    "\n",
    "#check that it's the same (close) with\n",
    "print('tie: ',target_estimator(v_in_play,269-210,1000000)/2**len(v_in_play))\n",
    "\n"
   ]
  },
  {
   "cell_type": "markdown",
   "metadata": {},
   "source": [
    "In the 2000.pdf file, there are also the probabilities that had been determined by extensive polling for Gore winning each of the 17 states. The following function redos the previous simulation using the 17 Bernoulli $(p_i)$. The idea now is that each of the 17 states has its own coin so to speak."
   ]
  },
  {
   "cell_type": "code",
   "execution_count": 6,
   "metadata": {},
   "outputs": [
    {
     "name": "stdout",
     "output_type": "stream",
     "text": [
      "Bush win with poll:  0.142487\n",
      "Gore win with poll:  0.847734\n",
      "tie:  0.010622999999999938\n"
     ]
    }
   ],
   "source": [
    "import numpy as np\n",
    "\n",
    "v_in_play= [6,3,25,22,7,4,18,10,11,4,4,7,23,11,11,5,11]\n",
    "\n",
    "gore_poll_prob = [0.395, 0.143, 0.893, 0.999, 0.42, 0.5, 0.997, 0.999,\n",
    "                 0.236, 0.146, 0.731, 0.602, 0.989, 0.289, 0.753, 0.302, 0.946]\n",
    "\n",
    "def ec_estimator_with_poll(ec_in_the_bag, v_left, v_poll, trials):\n",
    "    #toss the first entry in v_poll\n",
    "    random_toss = np.random.choice((0,1), size=(trials,1), p = [1-v_poll[0], v_poll[0]])\n",
    "\n",
    "    #toss the remaining in the v_poll\n",
    "    for i in range(1,len(v_poll)):\n",
    "        arr = np.random.choice((0,1), size=(trials,1), p = [1-v_poll[i], v_poll[i]])\n",
    "        # concatenate remaining tosses to random_toss\n",
    "        random_toss=np.concatenate((np.copy(random_toss), np.copy(arr)), axis=1)\n",
    "\n",
    "    battle_state_outcomes = np.dot(random_toss, v_left)\n",
    "\n",
    "    win_outcomes = [outcome for outcome in battle_state_outcomes if (\n",
    "        ec_in_the_bag + outcome) > tie]\n",
    "\n",
    "    win_prob = len(win_outcomes) / trials\n",
    "    return (win_prob)\n",
    "\n",
    "\n",
    "bush_poll_prob = [ (1 - x) for x in gore_poll_prob ]\n",
    "\n",
    "bush_win = ec_estimator_with_poll(210, v_in_play,bush_poll_prob, 1000000)\n",
    "gore_win = ec_estimator_with_poll(146,v_in_play, gore_poll_prob, 1000000)\n",
    "\n",
    "# estimate for Bush win with poll\n",
    "print('Bush win with poll: ', ec_estimator_with_poll(210, v_in_play,bush_poll_prob, 1000000))\n",
    "\n",
    "# estimate for Gore win with poll\n",
    "print('Gore win with poll: ', ec_estimator_with_poll(146,v_in_play, gore_poll_prob, 1000000))\n",
    "\n",
    "# estimate for a tie\n",
    "print('tie: ', (1 - bush_win - gore_win))\n"
   ]
  }
 ],
 "metadata": {
  "kernelspec": {
   "display_name": "Python 3 (ipykernel)",
   "language": "python",
   "name": "python3"
  },
  "language_info": {
   "codemirror_mode": {
    "name": "ipython",
    "version": 3
   },
   "file_extension": ".py",
   "mimetype": "text/x-python",
   "name": "python",
   "nbconvert_exporter": "python",
   "pygments_lexer": "ipython3",
   "version": "3.9.12"
  }
 },
 "nbformat": 4,
 "nbformat_minor": 1
}
